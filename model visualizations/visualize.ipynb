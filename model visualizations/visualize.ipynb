{
 "cells": [
  {
   "cell_type": "code",
   "execution_count": 3,
   "id": "6c1e6f5c-59e6-4bcc-ace6-8bdeb2f7cd9c",
   "metadata": {},
   "outputs": [],
   "source": [
    "from tensorflow.keras import layers, models\n",
    "from tensorflow.keras.utils import plot_model, model_to_dot\n",
    "import pydot\n",
    "import os\n",
    "\n",
    "def build_cnn_lstm_model():\n",
    "    inputs = layers.Input(shape=(100, 6), name=\"input_layer\")\n",
    "    x = layers.Conv1D(32, 3, activation=\"relu\", name=\"conv1d_1\")(inputs)\n",
    "    x = layers.MaxPooling1D(2, name=\"maxpool1d_1\")(x)\n",
    "    x = layers.Conv1D(64, 3, activation=\"relu\", name=\"conv1d_2\")(x)\n",
    "    x = layers.MaxPooling1D(2, name=\"maxpool1d_2\")(x)\n",
    "    x = layers.LSTM(32, name=\"lstm\")(x)\n",
    "    x = layers.Dense(32, activation=\"relu\", name=\"dense_1\")(x)\n",
    "    outputs = layers.Dense(1, activation=\"sigmoid\", name=\"output\")(x)\n",
    "    model = models.Model(inputs, outputs, name=\"CNN_LSTM\")\n",
    "    return model\n",
    "\n",
    "model = build_cnn_lstm_model()\n"
   ]
  },
  {
   "cell_type": "code",
   "execution_count": 4,
   "id": "d9e8be1b-0287-4fdd-9b65-ee98bf6d107f",
   "metadata": {},
   "outputs": [],
   "source": [
    "# 1. Make sure Graphviz bin is on your PATH (so 'dot' is found)\n",
    "# 2. pip install pydot\n",
    "\n",
    "# Grab the raw dot graph\n",
    "dot = model_to_dot(\n",
    "    model,\n",
    "    show_shapes=True,\n",
    "    show_layer_names=True\n",
    ")\n",
    "\n",
    "# Global graph settings\n",
    "dot.set_graph_defaults(\n",
    "    rankdir='LR',    # Left→Right\n",
    "    dpi='150'\n",
    ")\n",
    "\n",
    "# Style each node\n",
    "for node in dot.get_nodes():\n",
    "    node.set_style('rounded,filled')\n",
    "    node.set_fillcolor('#AED6F1')    # light blue\n",
    "    node.set_color('#1B4F72')        # dark border\n",
    "    node.set_fontcolor('#1B2631')\n",
    "    node.set_fontsize('12')\n",
    "\n",
    "# Save\n",
    "dot.write_png('model_pretty.png')\n"
   ]
  },
  {
   "cell_type": "code",
   "execution_count": null,
   "id": "25eca76a-acb9-44bc-a3d6-d7c77f82ad54",
   "metadata": {},
   "outputs": [],
   "source": [
    "import subprocess\n",
    "import sys\n",
    "\n",
    "# 1) Ensure visualkeras + pillow are installed\n",
    "try:\n",
    "    import visualkeras\n",
    "except ImportError:\n",
    "    subprocess.check_call([sys.executable, \"-m\", \"pip\", \"install\",\n",
    "                           \"git+https://github.com/paulgavrik/visualkeras\",\n",
    "                           \"pillow\"])\n",
    "    import visualkeras\n",
    "\n",
    "# 2) Now pull in the font helper\n",
    "from PIL import ImageFont\n",
    "\n",
    "# 3) (Optional) Point to a .ttf on your system for nicer labels\n",
    "#    On Windows this might be \"arial.ttf\" in your fonts folder:\n",
    "font = ImageFont.truetype(\"arial.ttf\", 16)\n",
    "\n",
    "# 4) Generate & save the layered (3D‑ish) view\n",
    "visualkeras.layered_view(\n",
    "    model,\n",
    "    to_file='model_visualkeras_fixed.png',\n",
    "    legend=True,\n",
    "    font=font,\n",
    "    spacing=(20, 20),\n",
    "    scale_xy=(2, 2),\n",
    ")\n"
   ]
  },
  {
   "cell_type": "code",
   "execution_count": 6,
   "id": "9d57014f-46f6-4377-a045-ca383526e8e1",
   "metadata": {},
   "outputs": [
    {
     "data": {
      "image/png": "[encoded data removed]",
      "text/plain": [
       "<Figure size 1050x250 with 1 Axes>"
      ]
     },
     "metadata": {},
     "output_type": "display_data"
    }
   ],
   "source": [
    "import matplotlib.pyplot as plt\n",
    "\n",
    "layers  = [\n",
    "    \"Conv1D\\n(filters=32,k=3)\",\n",
    "    \"MaxPool1D\\n(pool=2)\",\n",
    "    \"Conv1D\\n(filters=64,k=3)\",\n",
    "    \"MaxPool1D\\n(pool=2)\",\n",
    "    \"LSTM\\n(units=32)\",\n",
    "    \"Dense\\n(32)\",\n",
    "    \"Output\\n(1, sigmoid)\"\n",
    "]\n",
    "n = len(layers)\n",
    "fig, ax = plt.subplots(figsize=(n*1.5, 2.5))\n",
    "\n",
    "for i, label in enumerate(layers):\n",
    "    # draw box\n",
    "    rect = plt.Rectangle((i*1.3, 0), 1.2, 1, fc='lightgreen', ec='darkgreen', lw=2, zorder=1)\n",
    "    ax.add_patch(rect)\n",
    "    ax.text(i*1.3 + 0.6, 0.5, label, ha='center', va='center', fontsize=10, zorder=2)\n",
    "\n",
    "    # arrow to next\n",
    "    if i < n-1:\n",
    "        ax.annotate(\n",
    "            \"\",\n",
    "            xy=(i*1.3 + 1.2, 0.5),\n",
    "            xytext=(i*1.3 + 1.5, 0.5),\n",
    "            arrowprops=dict(arrowstyle='->', lw=1.5),\n",
    "        )\n",
    "\n",
    "ax.set_xlim(-0.1, n*1.3)\n",
    "ax.set_ylim(0, 1)\n",
    "ax.axis('off')\n",
    "plt.tight_layout()\n",
    "plt.savefig('model_schematic.png', dpi=150)\n"
   ]
  },
  {
   "cell_type": "code",
   "execution_count": null,
   "id": "f00bea58-0de2-40f3-8b84-3e44e69cb60c",
   "metadata": {},
   "outputs": [],
   "source": []
  }
 ],
 "metadata": {
  "kernelspec": {
   "display_name": "Python 3 (ipykernel)",
   "language": "python",
   "name": "python3"
  },
  "language_info": {
   "codemirror_mode": {
    "name": "ipython",
    "version": 3
   },
   "file_extension": ".py",
   "mimetype": "text/x-python",
   "name": "python",
   "nbconvert_exporter": "python",
   "pygments_lexer": "ipython3",
   "version": "3.11.9"
  }
 },
 "nbformat": 4,
 "nbformat_minor": 5
}
